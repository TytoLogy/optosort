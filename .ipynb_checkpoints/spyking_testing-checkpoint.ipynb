{
 "cells": [
  {
   "cell_type": "code",
   "execution_count": 1,
   "metadata": {},
   "outputs": [],
   "source": [
    "# import objects to handle command-line processes\n",
    "import subprocess\n",
    "import os"
   ]
  },
  {
   "cell_type": "code",
   "execution_count": 2,
   "metadata": {},
   "outputs": [
    {
     "name": "stdout",
     "output_type": "stream",
     "text": [
      "usage: spyking-circus [-h] [-i] [-m METHOD] [-c CPU] [-H HOSTFILE] [-b] [-p]\n",
      "                      [-r] [-s SECOND] [-e EXTENSION] [-o OUTPUT]\n",
      "                      [-t {fitting,clustering,synchrony}]\n",
      "                      datafile\n",
      "\n",
      "\n",
      "##################################################################\n",
      "#####           Welcome to the SpyKING CIRCUS (0.9.2)        #####\n",
      "#####                                                        #####\n",
      "#####              Written by P.Yger and O.Marre             #####\n",
      "##################################################################\n",
      "\n",
      "Local CPUs    : 8\n",
      "Parallel HDF5 : False\n",
      "Shared memory : True\n",
      "\n",
      "##################################################################\n",
      "\n",
      "positional arguments:\n",
      "  datafile              data file (or a list of commands if batch mode)\n",
      "\n",
      "optional arguments:\n",
      "  -h, --help            show this help message and exit\n",
      "  -i, --info            list the file formats supported by SpyKING CIRCUS\n",
      "  -m METHOD, --method METHOD\n",
      "                        by default, all steps are performed,\n",
      "                        but a subset x,y can be done. Steps are:\n",
      "                         - filtering\n",
      "                         - whitening\n",
      "                         - clustering\n",
      "                         - fitting\n",
      "                         - merging [with or without a GUI for meta merging]\n",
      "                         - (extra) converting [export results to phy format]\n",
      "                         - (extra) thresholding [to get MUA activity only]\n",
      "                         - (extra) deconverting [import results from phy format]\n",
      "                         - (extra) gathering [force collection of results]\n",
      "                         - (extra) extracting [get templates from spike times]\n",
      "                         - (extra) benchmarking [with -o and -t]\n",
      "                         - (extra) validating [to compare performance with GT neurons]\n",
      "  -c CPU, --cpu CPU     number of CPU\n",
      "  -H HOSTFILE, --hostfile HOSTFILE\n",
      "                        hostfile for MPI\n",
      "  -b, --batch           datafile is a list of commands to launch, in a batch mode\n",
      "  -p, --preview         GUI to display the first second filtered with thresholds\n",
      "  -r, --result          GUI to display the results on top of raw data\n",
      "  -s SECOND, --second SECOND\n",
      "                        If preview mode, begining of the preview [in s]\n",
      "  -e EXTENSION, --extension EXTENSION\n",
      "                        extension to consider for merging, converting and deconverting\n",
      "  -o OUTPUT, --output OUTPUT\n",
      "                        output file [for generation of synthetic benchmarks]\n",
      "  -t {fitting,clustering,synchrony}, --type {fitting,clustering,synchrony}\n",
      "                        benchmark type\n",
      "\n"
     ]
    }
   ],
   "source": [
    "\n",
    "# run spyking-circus command with -h (help) option to display commandline options\n",
    "spykhelp_string = subprocess.check_output([\"spyking-circus\", \"-h\"], stderr=subprocess.STDOUT)\n",
    "# print output (need to convert stdout_string from bytes to text)\n",
    "print(spykhelp_string.decode('utf-8'))"
   ]
  },
  {
   "cell_type": "code",
   "execution_count": null,
   "metadata": {},
   "outputs": [],
   "source": [
    "# run spyking-circus command with test data file\n",
    "bbn_string = subprocess.check_output([\"spyking-circus\", \"./1429_20200707_01_01_2942_BBN.bin\"], stderr=subprocess.STDOUT)\n",
    "# print output (need to convert stdout_string from bytes to text)\n",
    "print(bbn_string.decode('utf-8'))"
   ]
  },
  {
   "cell_type": "code",
   "execution_count": null,
   "metadata": {},
   "outputs": [],
   "source": []
  }
 ],
 "metadata": {
  "kernelspec": {
   "display_name": "Python [conda env:circus] *",
   "language": "python",
   "name": "conda-env-circus-py"
  },
  "language_info": {
   "codemirror_mode": {
    "name": "ipython",
    "version": 3
   },
   "file_extension": ".py",
   "mimetype": "text/x-python",
   "name": "python",
   "nbconvert_exporter": "python",
   "pygments_lexer": "ipython3",
   "version": "3.6.10"
  }
 },
 "nbformat": 4,
 "nbformat_minor": 4
}
